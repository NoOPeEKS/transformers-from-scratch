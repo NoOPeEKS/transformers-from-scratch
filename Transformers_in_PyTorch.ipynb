{
  "nbformat": 4,
  "nbformat_minor": 0,
  "metadata": {
    "colab": {
      "provenance": []
    },
    "kernelspec": {
      "name": "python3",
      "display_name": "Python 3"
    },
    "language_info": {
      "name": "python"
    }
  },
  "cells": [
    {
      "cell_type": "markdown",
      "source": [
        "# Transformers implementation in PyTorch"
      ],
      "metadata": {
        "id": "81dFsZ7PWjZJ"
      }
    },
    {
      "cell_type": "markdown",
      "source": [
        "## Imports"
      ],
      "metadata": {
        "id": "rvulRRMRWnvF"
      }
    },
    {
      "cell_type": "code",
      "source": [
        "import torch\n",
        "import torch.nn as nn\n",
        "import torch.nn.functional as F\n",
        "import torch.optim as optim\n",
        "from torch.utils.data import DataLoader\n",
        "from collections import Counter\n",
        "import numpy as np\n",
        "import re\n",
        "import math"
      ],
      "metadata": {
        "id": "2m7hEW6tArUX"
      },
      "execution_count": 48,
      "outputs": []
    },
    {
      "cell_type": "code",
      "source": [
        "torch.manual_seed(23)"
      ],
      "metadata": {
        "colab": {
          "base_uri": "https://localhost:8080/"
        },
        "id": "YS2ZhxegA56A",
        "outputId": "372e0699-ff87-496d-bde1-7bd298f75746"
      },
      "execution_count": 16,
      "outputs": [
        {
          "output_type": "execute_result",
          "data": {
            "text/plain": [
              "<torch._C.Generator at 0x7bbcc38c58d0>"
            ]
          },
          "metadata": {},
          "execution_count": 16
        }
      ]
    },
    {
      "cell_type": "code",
      "source": [
        "device = torch.device(\"cuda\" if torch.cuda.is_available() else \"cpu\")\n",
        "print(device)"
      ],
      "metadata": {
        "colab": {
          "base_uri": "https://localhost:8080/"
        },
        "id": "YqeUwiknA797",
        "outputId": "c1bdebd5-a16d-472d-8682-909a2b49c1d2"
      },
      "execution_count": 49,
      "outputs": [
        {
          "output_type": "stream",
          "name": "stdout",
          "text": [
            "cpu\n"
          ]
        }
      ]
    },
    {
      "cell_type": "code",
      "source": [
        "MAX_SEQ_LEN = 30"
      ],
      "metadata": {
        "id": "BMbGi3FIBECR"
      },
      "execution_count": 18,
      "outputs": []
    },
    {
      "cell_type": "markdown",
      "source": [
        "## Transformer modules definitions"
      ],
      "metadata": {
        "id": "vrDJf-8AWp9h"
      }
    },
    {
      "cell_type": "code",
      "source": [
        "class PositionalEmbedding(nn.Module):\n",
        "  def __init__(self, d_model, max_seq_len=MAX_SEQ_LEN):\n",
        "    super().__init__()\n",
        "    self.pos_embed_matrix = torch.zeros(max_seq_len, d_model, device=device)\n",
        "    token_pos = torch.arange(0, max_seq_len, dtype=torch.float).unsqueeze(1)\n",
        "    div_term = torch.exp(torch.arange(0, d_model, 2).float()\n",
        "                          *(-math.log(10000.0)/d_model))\n",
        "    self.pos_embed_matrix[:, 0::2] = torch.sin(token_pos * div_term)\n",
        "    self.pos_embed_matrix[:, 1::2] = torch.cos(token_pos * div_term)\n",
        "    self.pos_embed_matrix = self.pos_embed_matrix.unsqueeze(0).transpose(0,1)\n",
        "\n",
        "  def forward(self, x):\n",
        "    return x + self.pos_embed_matrix[:x.size(0), :]"
      ],
      "metadata": {
        "id": "xDCK_eGGC0w8"
      },
      "execution_count": 62,
      "outputs": []
    },
    {
      "cell_type": "code",
      "source": [
        "class PositionFeedForward(nn.Module):\n",
        "  def __init__(self, d_model, d_ff):\n",
        "    super().__init__()\n",
        "    self.linear1 = nn.Linear(d_model, d_ff)\n",
        "    self.linear2 = nn.Linear(d_ff, d_model)\n",
        "\n",
        "  def forward(self, x):\n",
        "    return self.linear2(F.relu(self.linear1(x)))"
      ],
      "metadata": {
        "id": "CIfxuBo1Mn6r"
      },
      "execution_count": 51,
      "outputs": []
    },
    {
      "cell_type": "code",
      "source": [
        "class MultiHeadAttention(nn.Module):\n",
        "  def __init__(self, d_model=512, num_heads=8):\n",
        "    super().__init__()\n",
        "    assert d_model % num_heads == 0, 'Embedding size not compatible with num_heads'\n",
        "    self.d_v = d_model // num_heads\n",
        "    self.d_k = self.d_v\n",
        "    self.num_heads = num_heads\n",
        "\n",
        "    self.W_q = nn.Linear(d_model, d_model)\n",
        "    self.W_k = nn.Linear(d_model, d_model)\n",
        "    self.W_v = nn.Linear(d_model, d_model)\n",
        "    self.W_o = nn.Linear(d_model, d_model)\n",
        "\n",
        "  def forward(self, Q, K, V, mask=None):\n",
        "    batch_size = Q.size(0)\n",
        "    Q = self.W_q(Q).view(batch_size, -1, self.num_heads, self.d_k).transpose(1, 2)\n",
        "    K = self.W_k(K).view(batch_size, -1, self.num_heads, self.d_k).transpose(1, 2)\n",
        "    V = self.W_v(V).view(batch_size, -1, self.num_heads, self.d_k).transpose(1, 2)\n",
        "\n",
        "    weighted_values, attention = self.scale_dot_product(Q, K, V, mask)\n",
        "    weighted_values = weighted_values.transpose(1,2).contiguous().view(batch_size, -1, self.num_heads * self.d_k)\n",
        "    weighted_values = self.W_o(weighted_values)\n",
        "\n",
        "    return weighted_values, attention\n",
        "\n",
        "  def scale_dot_product(self, Q, K, V, mask=None):\n",
        "    scores = torch.matmul(Q, K.transpose(-2, -1)) / math.sqrt(self.d_k)\n",
        "    if mask is not None:\n",
        "      scores = scores.masked_fill(mask == 0, -1e9)\n",
        "\n",
        "    attention = F.softmax(scores, dim=-1)\n",
        "    weighted_values = torch.matmul(attention, V)\n",
        "\n",
        "    return weighted_values, attention"
      ],
      "metadata": {
        "id": "3DQfXZmmLqKL"
      },
      "execution_count": 65,
      "outputs": []
    },
    {
      "cell_type": "code",
      "source": [
        "class EncoderSubLayer(nn.Module):\n",
        "  def __init__(self, d_model, num_heads, d_ff, dropout=0.1):\n",
        "    super().__init__()\n",
        "    self.self_attention = MultiHeadAttention(d_model, num_heads)\n",
        "    self.ffn = PositionFeedForward(d_model, d_ff)\n",
        "    self.norm1 = nn.LayerNorm(d_model)\n",
        "    self.norm2 = nn.LayerNorm(d_model)\n",
        "    self.dropout1 = nn.Dropout(dropout)\n",
        "    self.dropout2 = nn.Dropout(dropout)\n",
        "\n",
        "  def forward(self, x, mask=None):\n",
        "    attention_score, _ = self.self_attention(x, x, x, mask)\n",
        "    x = x + self.dropout1(attention_score)\n",
        "    x = self.norm1(x)\n",
        "    x = x + self.dropout2(self.ffn(x))\n",
        "    return self.norm2(x)\n"
      ],
      "metadata": {
        "id": "SFL0AlKZLUpp"
      },
      "execution_count": 53,
      "outputs": []
    },
    {
      "cell_type": "code",
      "source": [
        "class Encoder(nn.Module):\n",
        "  def __init__(self, d_model, num_heads, d_ff, num_layers, dropout=0.1):\n",
        "    super().__init__()\n",
        "    self.layers = nn.ModuleList([EncoderSubLayer(d_model, num_heads, d_ff, dropout) for _ in range(num_layers)])\n",
        "    self.norm = nn.LayerNorm(d_model)\n",
        "\n",
        "  def forward(self, x, mask=None):\n",
        "    for layer in self.layers:\n",
        "      x = layer(x, mask)\n",
        "\n",
        "    return self.norm(x)"
      ],
      "metadata": {
        "id": "BEsSXUdEDfqD"
      },
      "execution_count": 54,
      "outputs": []
    },
    {
      "cell_type": "code",
      "source": [
        "class DecoderSubLayer(nn.Module):\n",
        "  def __init__(self, d_model, num_heads, d_ff, dropout=0.1):\n",
        "    super().__init__()\n",
        "    self.self_attention = MultiHeadAttention(d_model, num_heads)\n",
        "    self.cross_attention = MultiHeadAttention(d_model, num_heads)\n",
        "    self.feed_forward = PositionFeedForward(d_model, d_ff)\n",
        "    self.norm1 = nn.LayerNorm(d_model)\n",
        "    self.norm2 = nn.LayerNorm(d_model)\n",
        "    self.norm3 = nn.LayerNorm(d_model)\n",
        "    self.dropout1 = nn.Dropout(dropout)\n",
        "    self.dropout2 = nn.Dropout(dropout)\n",
        "    self.dropout3 = nn.Dropout(dropout)\n",
        "\n",
        "  def forward(self, x, encoder_output, target_mask=None, encoder_mask=None):\n",
        "    attention_score, _ = self.self_attention(x, x, x, target_mask)\n",
        "    x = x + self.dropout1(attention_score)\n",
        "    x = self.norm1(x)\n",
        "\n",
        "    encoder_attention, _ = self.cross_attention(x, encoder_output, encoder_output, encoder_mask)\n",
        "    x = x + self.dropout2(encoder_attention)\n",
        "    x = self.norm2(x)\n",
        "\n",
        "    ff_output = self.feed_forward(x)\n",
        "    x = x + self.dropout3(ff_output)\n",
        "\n",
        "    return self.norm3(x)"
      ],
      "metadata": {
        "id": "8fic2CevS272"
      },
      "execution_count": 55,
      "outputs": []
    },
    {
      "cell_type": "code",
      "source": [
        "class Decoder(nn.Module):\n",
        "  def __init__(self, d_model, num_heads, d_ff, num_layers, dropout=0.1):\n",
        "    super().__init__()\n",
        "    self.layers = nn.ModuleList([DecoderSubLayer(d_model, num_heads, d_ff, dropout) for _ in range(num_layers)])\n",
        "    self.norm = nn.LayerNorm(d_model)\n",
        "\n",
        "  def forward(self, x, encoder_output, target_mask, encoder_mask):\n",
        "    for layer in self.layers:\n",
        "      x = layer(x, encoder_output, target_mask, encoder_mask)\n",
        "\n",
        "    return self.norm(x)"
      ],
      "metadata": {
        "id": "yR0dsPn4D68C"
      },
      "execution_count": 56,
      "outputs": []
    },
    {
      "cell_type": "code",
      "source": [
        "class Transformer(nn.Module):\n",
        "  def __init__(self, d_model, num_heads, d_ff, num_layers, input_vocab_size,\n",
        "               target_vocab_size, max_len=MAX_SEQ_LEN, dropout=0.1):\n",
        "    \"\"\"\n",
        "      d_model: dimension of the input embeddings\n",
        "      num_heads: number of attention heads\n",
        "      d_ff: dimension of the feedforward layer\n",
        "      num_layers: number of transformer layers\n",
        "      input_vocab_size: size of the input vocabulary\n",
        "      target_vocab_size: size of the target vocabulary\n",
        "      max_len: maximum length of the input sequence\n",
        "      dropout: dropout rate\n",
        "    \"\"\"\n",
        "    super().__init__()\n",
        "    self.encoder_embedding = nn.Embedding(input_vocab_size, d_model)\n",
        "    self.decoder_embedding = nn.Embedding(target_vocab_size, d_model)\n",
        "    self.pos_embedding = PositionalEmbedding(d_model, max_len)\n",
        "    self.encoder = Encoder(d_model, num_heads, d_ff, num_layers, dropout)\n",
        "    self.decoder = Decoder(d_model, num_heads, d_ff, num_layers, dropout)\n",
        "    self.output_layer = nn.Linear(d_model, target_vocab_size)\n",
        "\n",
        "  def forward(self, source, target):\n",
        "    # Encoder Mask\n",
        "    source_mask, target_mask = self.mask(source, target)\n",
        "    # Encoder Embedding and positional Encoding\n",
        "    source = self.encoder_embedding(source) * math.sqrt(self.encoder_embedding.embedding_dim)\n",
        "    source = self.pos_embedding(source)\n",
        "    # Encoder\n",
        "    encoder_output = self.encoder(source, source_mask)\n",
        "\n",
        "    # Decoder embedding and positiona encoding\n",
        "    target = self.decoder_embedding(target) * math.sqrt(self.decoder_embedding.embedding_dim)\n",
        "    target = self.pos_embedding(target)\n",
        "    # Decoder\n",
        "    decoder_output = self.decoder(target, encoder_output, target_mask, source_mask)\n",
        "\n",
        "    return self.output_layer(decoder_output)\n",
        "\n",
        "  def mask(self, source, target):\n",
        "    source_mask = (source != 0).unsqueeze(1).unsqueeze(2)\n",
        "    target_mask = (target != 0).unsqueeze(1).unsqueeze(2)\n",
        "    size = target.size(1)\n",
        "    no_mask = torch.tril(torch.ones((1, size, size), device=device)).bool()\n",
        "    target_mask = target_mask & no_mask\n",
        "    return source_mask, target_mask"
      ],
      "metadata": {
        "id": "gYGvMcCqBQs9"
      },
      "execution_count": 60,
      "outputs": []
    },
    {
      "cell_type": "markdown",
      "source": [
        "## Testing the transformer code"
      ],
      "metadata": {
        "id": "gfDgarYPWtNK"
      }
    },
    {
      "cell_type": "code",
      "source": [
        "seq_len_source = 10\n",
        "seq_len_target = 10\n",
        "batch_size = 2\n",
        "input_vocab_size = 50\n",
        "target_vocab_size = 50\n",
        "\n",
        "source = torch.randint(1, input_vocab_size, (batch_size, seq_len_source))\n",
        "target = torch.randint(1, target_vocab_size, (batch_size, seq_len_target))\n",
        "\n",
        "d_model = 512\n",
        "num_heads = 8\n",
        "d_ff = 2048\n",
        "num_layers = 6\n",
        "\n",
        "model = Transformer(d_model, num_heads, d_ff, num_layers, input_vocab_size,\n",
        "                    target_vocab_size, max_len=MAX_SEQ_LEN, dropout=0.1)\n",
        "model.to(device)\n",
        "source = source.to(device)\n",
        "target = target.to(device)\n",
        "output = model(source, target)\n",
        "\n",
        "# Expected output shape [batch, seq len target, target vocab size] i.e. [2, 10, 50]\n",
        "print(f\"output.shape: {output.shape}\")"
      ],
      "metadata": {
        "colab": {
          "base_uri": "https://localhost:8080/"
        },
        "id": "rlYuF2oAWv1g",
        "outputId": "b0e9923e-1d4d-45c3-db07-3a836da2ebf8"
      },
      "execution_count": 66,
      "outputs": [
        {
          "output_type": "stream",
          "name": "stdout",
          "text": [
            "output.shape: torch.Size([2, 10, 50])\n"
          ]
        }
      ]
    }
  ]
}